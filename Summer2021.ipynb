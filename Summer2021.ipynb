{
 "cells": [
  {
   "cell_type": "code",
   "execution_count": 1,
   "metadata": {},
   "outputs": [],
   "source": [
    "import os\n",
    "import numpy as np\n",
    "import matplotlib.pyplot as plt\n",
    "import random\n",
    "from PIL import Image\n",
    "from keras.preprocessing.image import ImageDataGenerator, img_to_array\n",
    "from os import walk\n",
    "import shutil\n",
    "import cv2     #resizing th image\n",
    "from random import shuffle  #shuffle images\n",
    "from tqdm import tqdm  #professional looping with progressbar\n",
    "#import tensorflow as tf\n",
    "import pandas as pd\n",
    "from tensorflow.keras import Sequential\n",
    "from tensorflow.keras.layers import Dense, Flatten, BatchNormalization, Dropout, Conv2D, MaxPool2D\n",
    "from tensorflow.keras.activations import relu, softmax, tanh, sigmoid\n",
    "from tensorflow.keras.losses import sparse_categorical_crossentropy, CategoricalCrossentropy\n",
    "from tensorflow.keras.optimizers import Adam\n",
    "from tensorflow import keras\n",
    "import glob"
   ]
  },
  {
   "cell_type": "code",
   "execution_count": 2,
   "metadata": {},
   "outputs": [
    {
     "name": "stdout",
     "output_type": "stream",
     "text": [
      "Folder Emplied\n",
      "Data Augmentation finished.\n",
      "\n"
     ]
    }
   ],
   "source": [
    "# Data Augmentation\n",
    "def data_rotate():\n",
    "    data_gen = ImageDataGenerator(rotation_range=20, # Amount of rotation\n",
    "                                  width_shift_range=0.1,# Amount of shift\n",
    "#                                  height_shift_range=0.1,\n",
    "                                  shear_range=0.2,# Shear angle in counter-clockwise direction as radians\n",
    "                                  zoom_range=0.4,# Range for random zoom\n",
    "                                  horizontal_flip=True,# Boolean (True or False). Randomly flip inputs horizontally\n",
    "                                  #vertical_flip=True,\n",
    "                                  fill_mode=\"constant\",cval=255)# Points outside the boundaries of the input are filled\n",
    "                                                      # according to the given mode\n",
    "    return data_gen\n",
    "\n",
    "# Import folder\n",
    "def load_dataset(path):\n",
    "    DIR='AUG'\n",
    "    data_gen = data_rotate()\n",
    "    f = []\n",
    "    if os.path.exists(DIR) == True:\n",
    "        shutil.rmtree(DIR) \n",
    "    print('Folder Emplied')\n",
    "    \n",
    "    os.mkdir(DIR)\n",
    "    for (dir_path, dir_names, file_names) in walk(path): # Find all images in folder\n",
    "        f.extend(file_names)\n",
    "    for item in f: # For each image in folder\n",
    "        image = Image.open(path+'/'+item).convert('L') # Create a numpy array with shape (1, 500, 500)\n",
    "        x = img_to_array(image)\n",
    "        x_label = item.split('.')[-2] #x = np.asarray(x) # Convert to a numpy array with shape (1, 1, 500, 500)\n",
    "        x = x.reshape((1,) + x.shape)   \n",
    "        i = 0\n",
    "        for batch in data_gen.flow(x, save_to_dir=DIR, save_prefix=x_label, save_format='jpg'):\n",
    "            i += 1\n",
    "            if i > 3 : #determine number of additional images per origional image\n",
    "                break             \n",
    "    print('Data Augmentation finished.\\n')\n",
    "\n",
    "def data_reg(path):\n",
    "    e = 1 #is regenerate, 0 is keep origional\n",
    "    if e == 1:   \n",
    "        load_dataset(path)\n",
    "        \n",
    "data_reg('summer2021_data') # run the data regenration\n",
    "#end of data aug"
   ]
  },
  {
   "cell_type": "code",
   "execution_count": 3,
   "metadata": {},
   "outputs": [],
   "source": [
    "# train_image\n",
    "def image_iden():\n",
    "    TRAIN_DIR = 'summer2021_data'\n",
    "    TRAIN_AUG = 'AUG'#image=cv2.imread('Training/000016.jpg') #plt.imshow(image)  #plt.show()\n",
    "    IMG_SIZE = 100 #LR = 1e-3   #MODEL_NAME = 'Soybean'.format(LR, 'classify')   \n",
    "    dataset = pd.read_csv('summer2021_label.csv')\n",
    "    file_names = list(dataset['file_name'].values)\n",
    "    img_labels = list(dataset['annotation'].values)\n",
    "    return  TRAIN_DIR, TRAIN_AUG, IMG_SIZE, dataset, file_names, img_labels\n",
    "\n",
    "TRAIN_DIR, TRAIN_AUG, IMG_SIZE, dataset, file_names, img_labels = image_iden()\n",
    "\n",
    "def label_img_orignal(img):\n",
    "    word_label = img.split('.')[-2] #eg: 000006.jpg\n",
    "    for i in range(len(img_labels)):\n",
    "        if word_label == file_names[i].split('.')[-2]:\n",
    "            return img_labels[i], word_label\n",
    "        \n",
    "def label_img_aug(img):\n",
    "    word_label=img.split('_')[-3]\n",
    "    for i in range(len(img_labels)):\n",
    "        if word_label == file_names[i].split('.')[-2]:\n",
    "            return img_labels[i], word_label\n",
    "    \n",
    "def create_train_data_orignal():\n",
    "    train_data = []\n",
    "    for img in tqdm(os.listdir(TRAIN_DIR)):\n",
    "        label, word = label_img_orignal(img)\n",
    "        path = os.path.join(TRAIN_DIR,img)\n",
    "        img = cv2.resize(cv2.imread(path,cv2.IMREAD_GRAYSCALE), (IMG_SIZE, IMG_SIZE))\n",
    "        train_data.append([np.array(img), np.array(label), np.array(word)])    \n",
    "    shuffle(train_data)\n",
    "    np.save('summer2021_original.npy', train_data)   #in future we can load this file\n",
    "    return train_data                           \n",
    "                           \n",
    "def create_train_data_aug(): \n",
    "    train_data = []\n",
    "    for img in tqdm(os.listdir(TRAIN_AUG)):\n",
    "        label,word = label_img_aug(img)\n",
    "        path = os.path.join(TRAIN_AUG,img)\n",
    "        img = cv2.resize(cv2.imread(path,cv2.IMREAD_GRAYSCALE), (IMG_SIZE, IMG_SIZE))\n",
    "        train_data.append([np.array(img), np.array(label),np.array(word)]) \n",
    "    shuffle(train_data)\n",
    "    np.save('summer2021_aug.npy', train_data)\n",
    "    return train_data\n",
    "\n",
    "def create_test_data(): \n",
    "    test_images = []\n",
    "    for f in glob.iglob('summer2021_test/*'):\n",
    "        i = cv2.resize(cv2.imread(f,cv2.IMREAD_GRAYSCALE),(IMG_SIZE,IMG_SIZE))\n",
    "        i = i.reshape(IMG_SIZE,IMG_SIZE,1)\n",
    "        test_images.append(i)\n",
    "    test_images = np.array(test_images)\n",
    "    return test_images\n",
    "\n",
    "        \n",
    "def activation_fcn(x):\n",
    "    if x == \"relu\":\n",
    "        return relu\n",
    "    elif x == \"tanh\":\n",
    "        return tanh\n",
    "    elif x == \"softmax\":\n",
    "        return softmax\n",
    "    elif x == \"sigmoid\":\n",
    "        return sigmoid"
   ]
  },
  {
   "cell_type": "code",
   "execution_count": 4,
   "metadata": {},
   "outputs": [],
   "source": [
    "def model_structure(input, activation_fn, learning_rate,num_neurons_in_dense, num_classes, drop_out, kernel, filter_size): \n",
    "    model=Sequential()\n",
    "    model.add(Conv2D(\n",
    "            filters=filter_size,\n",
    "            kernel_size=[kernel,kernel],\n",
    "            input_shape=input,\n",
    "            padding=\"same\",\n",
    "            activation=activation_fn\n",
    "            ))\n",
    "    model.add(BatchNormalization())\n",
    "    model.add(MaxPool2D(\n",
    "            pool_size=[2,2],\n",
    "            strides=2))\n",
    "    model.add(Conv2D(\n",
    "            filters=filter_size,\n",
    "            kernel_size=[kernel,kernel],\n",
    "            padding = \"same\",\n",
    "            activation = activation_fn\n",
    "            ))\n",
    "    model.add(BatchNormalization())\n",
    "    model.add(MaxPool2D(\n",
    "            pool_size=[2,2],\n",
    "            strides=2\n",
    "            ))\n",
    "    model.add(Flatten())\n",
    "    model.add(Dense(\n",
    "               units=num_neurons_in_dense,\n",
    "               activation=activation_fn))\n",
    "    model.add(Dropout(drop_out))\n",
    "    model.add(Dense(units = num_classes,\n",
    "                    activation=softmax))\n",
    "    model.compile(\n",
    "            loss = sparse_categorical_crossentropy,\n",
    "            optimizer=Adam(lr=learning_rate),  \n",
    "            metrics=[\"accuracy\"])\n",
    "    model.summary()\n",
    "    return model     "
   ]
  },
  {
   "cell_type": "code",
   "execution_count": 5,
   "metadata": {},
   "outputs": [],
   "source": [
    "def train_model(model, train_images, train_labels, batch_size, num_epochs, valid_images, valid_labels):\n",
    "#                ,save_callback, tb_callback\n",
    "#                ):\n",
    "    history = model.fit(\n",
    "            x = train_images,\n",
    "            y = train_labels,\n",
    "            batch_size = batch_size,\n",
    "            epochs= num_epochs,\n",
    "            validation_data=(valid_images, valid_labels),\n",
    "            shuffle = True)\n",
    "#            callbacks=[save_callback, tb_callback])\n",
    "            #verbose = 0\n",
    "    history_dict=history.history\n",
    "    train_accuracy=history_dict[\"accuracy\"]\n",
    "    train_loss = history_dict[\"loss\"]\n",
    "    valid_accuracy = history_dict[\"val_accuracy\"]\n",
    "    valid_loss = history_dict[\"val_loss\"]\n",
    "    return train_accuracy, train_loss, valid_accuracy, valid_loss\n",
    "\n",
    "# end of train image\n",
    "\n",
    "def data_split():\n",
    "    train_data_orig = create_train_data_orignal()\n",
    "    train_data_aug = create_train_data_aug()\n",
    "    data=train_data_orig+train_data_aug\n",
    "    random.shuffle(data)\n",
    "    #IMG_SIZE = 100\n",
    "    X=[]\n",
    "    Y=[]\n",
    "    Z=[]\n",
    "    for features, labels, words in data:\n",
    "        X.append(features)\n",
    "        Y.append(labels)\n",
    "        Z.append(words)\n",
    "    X=np.array(X).reshape(-1,IMG_SIZE,IMG_SIZE,1) \n",
    "    Y=np.array(Y)\n",
    "    Z=np.array(Z)\n",
    "    valid_set_size = int(np.floor(len(X)/4))\n",
    "    split = len (X) - valid_set_size\n",
    "    valid_images = X[split :]\n",
    "    valid_labels = Y[split :]\n",
    "    valid_words = Z[split :]\n",
    "    train_images = X[: split]\n",
    "    train_labels = Y[: split]\n",
    "    train_words = Z[: split]\n",
    "    return train_images, train_labels,train_words, valid_images, valid_labels, valid_words\n",
    "    \n",
    "def strucmodel(lr, acf, neurons_size, drop_out, kernel, filter_size):\n",
    "    learning_rate = lr\n",
    "    num_neurons_in_dense = neurons_size\n",
    "    active_fn = acf\n",
    "    activation_fn = activation_fcn(active_fn)\n",
    "    num_channels = 1\n",
    "    input_shape = [IMG_SIZE, IMG_SIZE, num_channels]\n",
    "    num_classes = 17\n",
    "#    folder = os.path.join(os.getcwd(), datetime.now().strftime(\"%d-%m_%Y_%M-%S\"), str(active_fn))\n",
    "#    history_file = folder + \"\\soybean\" + str(active_fn) + \".h5\"\n",
    "#    save_callback = ModelCheckpoint(filepath = history_file, verbose = 1)\n",
    "#    tb_callback = TensorBoard(log_dir = folder)\n",
    "    model = model_structure(input_shape, activation_fn, learning_rate, num_neurons_in_dense, num_classes, drop_out, kernel, filter_size)\n",
    "    #t0 = time.time()\n",
    "    return model"
   ]
  },
  {
   "cell_type": "code",
   "execution_count": 6,
   "metadata": {},
   "outputs": [],
   "source": [
    "def test_model(model, test_images, test_labels):\n",
    "    test_loss, test_accuracy = model.evaluate(\n",
    "            x = test_images,\n",
    "            y = test_labels,\n",
    "            verbose = 0\n",
    "            )\n",
    "    predictions = model.predict_proba(\n",
    "            x = test_images,\n",
    "            batch_size=None,\n",
    "            verbose=0)\n",
    "    return test_accuracy, test_loss, predictions"
   ]
  },
  {
   "cell_type": "code",
   "execution_count": 7,
   "metadata": {},
   "outputs": [],
   "source": [
    "def runmodel(train_images, train_labels, valid_images, valid_labels, model, epoch, batch, lr, acf):   \n",
    "    test_images = create_test_data()\n",
    "    num_epochs = epoch\n",
    "    batch_size = batch\n",
    "    active_fn = acf\n",
    "    train_accuracy, train_loss, valid_accuracy, valid_loss = train_model(model, train_images, train_labels, batch_size, num_epochs, valid_images, valid_labels)#, save_callback, tb_callback)\n",
    "    num_epochs_plot = range(1, len(train_accuracy) + 1)\n",
    "    plt.figure(1)\n",
    "    plt.plot(num_epochs_plot, train_loss, \"b\", label=\"Training Loss\")\n",
    "    plt.plot(num_epochs_plot, valid_loss, \"r\", label=\"Validation Loss\")\n",
    "    plt.title(\"Loss Curves_\" + active_fn)\n",
    "    plt.xlabel(\"Number of Epochs\")\n",
    "    plt.ylabel(\"Loss\")\n",
    "    plt.legend()\n",
    "    plt.savefig('Figures/' + active_fn + '_loss.png')\n",
    "    plt.show()\n",
    "    plt.figure(2)\n",
    "    plt.plot(num_epochs_plot, train_accuracy, \"b\", label=\"Training Accuracy\")\n",
    "    plt.plot(num_epochs_plot, valid_accuracy, \"r\", label=\"Validation Accuracy\")\n",
    "    plt.title(\"Accuracy Curves_\" + active_fn)\n",
    "    plt.xlabel(\"Number of Epochs\")\n",
    "    plt.ylabel(\"Accuracy\")\n",
    "    plt.legend()\n",
    "    plt.savefig('Figures/' + active_fn + '_acc.png')\n",
    "    plt.show()\n",
    "    prediction = np.argmax(model.predict(test_images), axis=-1)\n",
    "    result = np.zeros((test_images.shape[0],np.max(train_labels)+1))\n",
    "    result[np.arange(test_images.shape[0]),prediction] = 1\n",
    "    np.savetxt('labels21.csv', result , delimiter=',',fmt='%i')\n",
    "    return train_accuracy, train_loss, valid_accuracy, valid_loss   \n",
    "    \n",
    "    \n",
    "def tun():\n",
    "    train_images, train_labels, valid_images, valid_labels = data_split()\n",
    "    acf = 'relu'\n",
    "    accuracy = ''\n",
    "    for e in range(3):\n",
    "        e = 5*e\n",
    "        epoch = 2*e\n",
    "        for q in range(4):\n",
    "            q = q\n",
    "            lr = 0.0001*np.power(10,q)\n",
    "            for n in range(4):\n",
    "                n = n\n",
    "                batch = 128*np.power(2,n)\n",
    "                model = strucmodel(lr, acf, neurons_size, drop_out, kernel, filter_size)\n",
    "                valid_accuracy, valid_loss = runmodel(train_images, train_labels, valid_images, valid_labels, model, epoch, batch, lr, acf)\n",
    "            r = 'The loss is : %s, The accuracy is: %s (Batch: %s, Learning_rate: %s)'%(valid_loss[-1], valid_accuracy[-1], batch, lr)\n",
    "            print(r)\n",
    "            accuracy = accuracy+','+r\n",
    "    accuracy = accuracy\n",
    "    return accuracy"
   ]
  },
  {
   "cell_type": "code",
   "execution_count": 8,
   "metadata": {},
   "outputs": [
    {
     "name": "stderr",
     "output_type": "stream",
     "text": [
      "100%|██████████| 1442/1442 [00:25<00:00, 57.59it/s]\n",
      "D:\\Anaconda\\lib\\site-packages\\numpy\\core\\_asarray.py:136: VisibleDeprecationWarning: Creating an ndarray from ragged nested sequences (which is a list-or-tuple of lists-or-tuples-or ndarrays with different lengths or shapes) is deprecated. If you meant to do this, you must specify 'dtype=object' when creating the ndarray\n",
      "  return array(a, dtype, copy=False, order=order, subok=True)\n",
      "100%|██████████| 5768/5768 [00:55<00:00, 104.83it/s]\n"
     ]
    }
   ],
   "source": [
    "train_images, train_labels, train_words, valid_images, valid_labels, valid_words = data_split()"
   ]
  },
  {
   "cell_type": "code",
   "execution_count": 9,
   "metadata": {},
   "outputs": [
    {
     "name": "stdout",
     "output_type": "stream",
     "text": [
      "Model: \"sequential\"\n",
      "_________________________________________________________________\n",
      "Layer (type)                 Output Shape              Param #   \n",
      "=================================================================\n",
      "conv2d (Conv2D)              (None, 100, 100, 64)      640       \n",
      "_________________________________________________________________\n",
      "batch_normalization (BatchNo (None, 100, 100, 64)      256       \n",
      "_________________________________________________________________\n",
      "max_pooling2d (MaxPooling2D) (None, 50, 50, 64)        0         \n",
      "_________________________________________________________________\n",
      "conv2d_1 (Conv2D)            (None, 50, 50, 64)        36928     \n",
      "_________________________________________________________________\n",
      "batch_normalization_1 (Batch (None, 50, 50, 64)        256       \n",
      "_________________________________________________________________\n",
      "max_pooling2d_1 (MaxPooling2 (None, 25, 25, 64)        0         \n",
      "_________________________________________________________________\n",
      "flatten (Flatten)            (None, 40000)             0         \n",
      "_________________________________________________________________\n",
      "dense (Dense)                (None, 128)               5120128   \n",
      "_________________________________________________________________\n",
      "dropout (Dropout)            (None, 128)               0         \n",
      "_________________________________________________________________\n",
      "dense_1 (Dense)              (None, 17)                2193      \n",
      "=================================================================\n",
      "Total params: 5,160,401\n",
      "Trainable params: 5,160,145\n",
      "Non-trainable params: 256\n",
      "_________________________________________________________________\n"
     ]
    }
   ],
   "source": [
    "kernel=3\n",
    "filter_size=64\n",
    "neurons_size=128\n",
    "drop_out=0.5\n",
    "acf = 'relu'\n",
    "lr =0.001\n",
    "epoch = 25\n",
    "batch_size = 128\n",
    "model = strucmodel(lr, acf, neurons_size, drop_out, kernel, filter_size)"
   ]
  },
  {
   "cell_type": "code",
   "execution_count": 10,
   "metadata": {
    "scrolled": false
   },
   "outputs": [
    {
     "name": "stdout",
     "output_type": "stream",
     "text": [
      "Epoch 1/25\n",
      "43/43 [==============================] - 101s 2s/step - loss: 2.8902 - accuracy: 0.4101 - val_loss: 6.6545 - val_accuracy: 0.2331\n",
      "Epoch 2/25\n",
      "43/43 [==============================] - 111s 3s/step - loss: 1.2555 - accuracy: 0.6115 - val_loss: 2.6328 - val_accuracy: 0.3541\n",
      "Epoch 3/25\n",
      "43/43 [==============================] - 113s 3s/step - loss: 0.9820 - accuracy: 0.6888 - val_loss: 1.5445 - val_accuracy: 0.5538\n",
      "Epoch 4/25\n",
      "43/43 [==============================] - 112s 3s/step - loss: 0.8309 - accuracy: 0.7337 - val_loss: 0.6334 - val_accuracy: 0.8169\n",
      "Epoch 5/25\n",
      "43/43 [==============================] - 110s 3s/step - loss: 0.6742 - accuracy: 0.7781 - val_loss: 0.5420 - val_accuracy: 0.8191\n",
      "Epoch 6/25\n",
      "43/43 [==============================] - 126s 3s/step - loss: 0.6643 - accuracy: 0.7768 - val_loss: 0.4307 - val_accuracy: 0.8690\n",
      "Epoch 7/25\n",
      "43/43 [==============================] - 116s 3s/step - loss: 0.6070 - accuracy: 0.7911 - val_loss: 0.6845 - val_accuracy: 0.8235\n",
      "Epoch 8/25\n",
      "43/43 [==============================] - 108s 3s/step - loss: 0.5212 - accuracy: 0.8131 - val_loss: 0.3867 - val_accuracy: 0.8901\n",
      "Epoch 9/25\n",
      "43/43 [==============================] - 106s 2s/step - loss: 0.4683 - accuracy: 0.8303 - val_loss: 0.4914 - val_accuracy: 0.8635\n",
      "Epoch 10/25\n",
      "43/43 [==============================] - 111s 3s/step - loss: 0.4853 - accuracy: 0.8352 - val_loss: 0.7979 - val_accuracy: 0.8391\n",
      "Epoch 11/25\n",
      "43/43 [==============================] - 108s 3s/step - loss: 0.4479 - accuracy: 0.8469 - val_loss: 0.3829 - val_accuracy: 0.8901\n",
      "Epoch 12/25\n",
      "43/43 [==============================] - 112s 3s/step - loss: 0.4120 - accuracy: 0.8565 - val_loss: 0.5253 - val_accuracy: 0.8818\n",
      "Epoch 13/25\n",
      "43/43 [==============================] - 109s 3s/step - loss: 0.3411 - accuracy: 0.8717 - val_loss: 0.2912 - val_accuracy: 0.9095\n",
      "Epoch 14/25\n",
      "43/43 [==============================] - 111s 3s/step - loss: 0.3291 - accuracy: 0.8772 - val_loss: 0.3085 - val_accuracy: 0.9218\n",
      "Epoch 15/25\n",
      "43/43 [==============================] - 122s 3s/step - loss: 0.3288 - accuracy: 0.8846 - val_loss: 0.3595 - val_accuracy: 0.9212\n",
      "Epoch 16/25\n",
      "43/43 [==============================] - 113s 3s/step - loss: 0.3469 - accuracy: 0.8794 - val_loss: 0.3276 - val_accuracy: 0.9151\n",
      "Epoch 17/25\n",
      "43/43 [==============================] - 110s 3s/step - loss: 0.3273 - accuracy: 0.8885 - val_loss: 0.5602 - val_accuracy: 0.8368\n",
      "Epoch 18/25\n",
      "43/43 [==============================] - 108s 3s/step - loss: 0.3399 - accuracy: 0.8844 - val_loss: 0.3245 - val_accuracy: 0.9184\n",
      "Epoch 19/25\n",
      "43/43 [==============================] - 103s 2s/step - loss: 0.2856 - accuracy: 0.8979 - val_loss: 0.4351 - val_accuracy: 0.9062\n",
      "Epoch 20/25\n",
      "43/43 [==============================] - 109s 3s/step - loss: 0.2714 - accuracy: 0.9055 - val_loss: 0.4365 - val_accuracy: 0.8996\n",
      "Epoch 21/25\n",
      "43/43 [==============================] - 109s 3s/step - loss: 0.2871 - accuracy: 0.8996 - val_loss: 0.2655 - val_accuracy: 0.9351\n",
      "Epoch 22/25\n",
      "43/43 [==============================] - 106s 2s/step - loss: 0.2617 - accuracy: 0.9046 - val_loss: 0.2908 - val_accuracy: 0.9356\n",
      "Epoch 23/25\n",
      "43/43 [==============================] - 116s 3s/step - loss: 0.2671 - accuracy: 0.9090 - val_loss: 0.2313 - val_accuracy: 0.9417\n",
      "Epoch 24/25\n",
      "43/43 [==============================] - 115s 3s/step - loss: 0.2723 - accuracy: 0.9074 - val_loss: 0.5138 - val_accuracy: 0.8768\n",
      "Epoch 25/25\n",
      "43/43 [==============================] - 105s 2s/step - loss: 0.2807 - accuracy: 0.9048 - val_loss: 0.6354 - val_accuracy: 0.8368\n"
     ]
    },
    {
     "data": {
      "image/png": "[encoded data removed]",
      "text/plain": [
       "<Figure size 432x288 with 1 Axes>"
      ]
     },
     "metadata": {
      "needs_background": "light"
     },
     "output_type": "display_data"
    },
    {
     "data": {
      "image/png": "[encoded data removed]",
      "text/plain": [
       "<Figure size 432x288 with 1 Axes>"
      ]
     },
     "metadata": {
      "needs_background": "light"
     },
     "output_type": "display_data"
    }
   ],
   "source": [
    "train_accuracy, train_loss, valid_accuracy, valid_loss = runmodel(train_images, train_labels, valid_images, valid_labels, model, epoch, batch_size, lr, acf)"
   ]
  },
  {
   "cell_type": "code",
   "execution_count": 11,
   "metadata": {},
   "outputs": [
    {
     "name": "stdout",
     "output_type": "stream",
     "text": [
      "WARNING:tensorflow:From D:\\Anaconda\\lib\\site-packages\\tensorflow\\python\\training\\tracking\\tracking.py:111: Model.state_updates (from tensorflow.python.keras.engine.training) is deprecated and will be removed in a future version.\n",
      "Instructions for updating:\n",
      "This property should not be used in TensorFlow 2.0, as updates are applied automatically.\n",
      "WARNING:tensorflow:From D:\\Anaconda\\lib\\site-packages\\tensorflow\\python\\training\\tracking\\tracking.py:111: Layer.updates (from tensorflow.python.keras.engine.base_layer) is deprecated and will be removed in a future version.\n",
      "Instructions for updating:\n",
      "This property should not be used in TensorFlow 2.0, as updates are applied automatically.\n",
      "INFO:tensorflow:Assets written to: n3\\assets\n"
     ]
    }
   ],
   "source": [
    "model.save('n3')"
   ]
  },
  {
   "cell_type": "code",
   "execution_count": null,
   "metadata": {},
   "outputs": [],
   "source": [
    "writer = pd.ExcelWriter('zzz.xlsx', engine='xlsxwriter')\n",
    "dk = pd.DataFrame(data=np.vstack((train_accuracy,train_loss,valid_accuracy,valid_loss)).T,columns = [\"accuracy\",\"loss\",\"accuracy\",\"loss\"])\n",
    "dk.to_excel(writer, header = True, index = True, startrow=0, startcol=0, float_format='%.4f')\n",
    "writer.save()"
   ]
  },
  {
   "cell_type": "code",
   "execution_count": null,
   "metadata": {},
   "outputs": [],
   "source": [
    "model = keras.models.load_model('m2')"
   ]
  },
  {
   "cell_type": "code",
   "execution_count": null,
   "metadata": {},
   "outputs": [],
   "source": [
    "def test_data(): \n",
    "    test_images = []\n",
    "    test_names = []\n",
    "    for f in glob.iglob('summer2021_test/*'):\n",
    "        i = cv2.resize(cv2.imread(f,cv2.IMREAD_GRAYSCALE),(IMG_SIZE,IMG_SIZE))\n",
    "        i = i.reshape(IMG_SIZE,IMG_SIZE,1)\n",
    "        test_images.append(i)\n",
    "        test_names.append(f)\n",
    "    test_images = np.array(test_images)\n",
    "    test_names = np.array(test_names)\n",
    "    return test_images, test_names"
   ]
  },
  {
   "cell_type": "code",
   "execution_count": null,
   "metadata": {},
   "outputs": [],
   "source": [
    "from keras.utils import to_categorical\n",
    "from sklearn.metrics import accuracy_score\n",
    "import random as r\n",
    "r.seed(523)\n",
    "test_images, test_names = test_data()\n",
    "test_labels = pd.read_excel('test_label.xlsx')\n",
    "test_pred = np.argmax(model.predict(test_images), axis=-1)\n",
    "y_encoded = to_categorical(test_labels)\n",
    "y_prob = model.predict(test_images)\n",
    "accuracy_score(test_labels, test_pred)"
   ]
  },
  {
   "cell_type": "code",
   "execution_count": null,
   "metadata": {},
   "outputs": [],
   "source": [
    "import numpy as np\n",
    "import matplotlib.pyplot as plt\n",
    "from sklearn.metrics import roc_curve, auc\n",
    "from sklearn.multiclass import OneVsRestClassifier\n",
    "from scipy import interp\n",
    "from sklearn.metrics import roc_auc_score\n",
    "from itertools import cycle\n",
    "from scipy import interp\n",
    "num_class=17\n",
    "# Compute ROC curve and ROC area for each class\n",
    "fpr = dict()\n",
    "tpr = dict()\n",
    "thresh = dict()\n",
    "roc_auc = dict()\n",
    "for i in range(num_class):\n",
    "    fpr[i], tpr[i], thresh[i] = roc_curve(y_encoded[:, i], y_prob[:, i])\n",
    "    roc_auc[i] = auc(fpr[i], tpr[i])\n",
    "# Compute micro-average ROC curve and ROC area\n",
    "fpr[\"micro\"], tpr[\"micro\"], thresh[\"micro\"] = roc_curve(y_encoded.ravel(), y_prob.ravel())\n",
    "roc_auc[\"micro\"] = auc(fpr[\"micro\"], tpr[\"micro\"])"
   ]
  },
  {
   "cell_type": "code",
   "execution_count": null,
   "metadata": {},
   "outputs": [],
   "source": [
    "# First aggregate all false positive rates\n",
    "all_fpr = np.unique(np.concatenate([fpr[i] for i in range(num_class)]))\n",
    "lw=1\n",
    "# Then interpolate all ROC curves at this points\n",
    "mean_tpr = np.zeros_like(all_fpr)\n",
    "for i in range(num_class):\n",
    "    mean_tpr += np.interp(all_fpr, fpr[i], tpr[i])\n",
    "\n",
    "# Finally average it and compute AUC\n",
    "mean_tpr /= num_class\n",
    "\n",
    "fpr[\"macro\"] = all_fpr\n",
    "tpr[\"macro\"] = mean_tpr\n",
    "roc_auc[\"macro\"] = auc(fpr[\"macro\"], tpr[\"macro\"])\n",
    "\n",
    "# Plot all ROC curves\n",
    "plt.figure(figsize=(10, 8), dpi=80)\n",
    "plt.plot(fpr[\"micro\"], tpr[\"micro\"],\n",
    "         label='micro-average ROC curve (area = {0:0.5f})'\n",
    "               ''.format(roc_auc[\"micro\"]),\n",
    "         color='deeppink', linestyle=':', linewidth=4)\n",
    "\n",
    "plt.plot(fpr[\"macro\"], tpr[\"macro\"],\n",
    "         label='macro-average ROC curve (area = {0:0.5f})'\n",
    "               ''.format(roc_auc[\"macro\"]),\n",
    "         color='navy', linestyle=':', linewidth=4)\n",
    "plt.plot([0, 1], [0, 1], 'k--', lw=lw)\n",
    "plt.xlim([0.0, 1.0])\n",
    "plt.ylim([0.0, 1.05])\n",
    "plt.xlabel('False Positive Rate')\n",
    "plt.ylabel('True Positive Rate')\n",
    "plt.title('Some extension of Receiver operating characteristic to multi-class')\n",
    "plt.legend(loc=\"lower right\")\n",
    "plt.show()"
   ]
  },
  {
   "cell_type": "code",
   "execution_count": null,
   "metadata": {},
   "outputs": [],
   "source": [
    "test_l=test_labels.values.flatten()"
   ]
  },
  {
   "cell_type": "code",
   "execution_count": null,
   "metadata": {},
   "outputs": [],
   "source": [
    "zz=np.where(test_l!=test_pred)"
   ]
  },
  {
   "cell_type": "code",
   "execution_count": null,
   "metadata": {},
   "outputs": [],
   "source": [
    "xx=pd.DataFrame(data=np.vstack((valid_words[zz],valid_labels[zz],y_predict[zz])).T, columns=[\"Image\",\"True_label\",\"Predicted_label\"])\n",
    "xx"
   ]
  },
  {
   "cell_type": "code",
   "execution_count": null,
   "metadata": {},
   "outputs": [],
   "source": [
    "plt.imshow(valid_images[895],'gray')"
   ]
  },
  {
   "cell_type": "code",
   "execution_count": null,
   "metadata": {},
   "outputs": [],
   "source": [
    "model.predict(valid_images)[895]"
   ]
  },
  {
   "cell_type": "code",
   "execution_count": null,
   "metadata": {},
   "outputs": [],
   "source": [
    "valid_images[1024].shape"
   ]
  },
  {
   "cell_type": "code",
   "execution_count": null,
   "metadata": {},
   "outputs": [],
   "source": [
    "writer = pd.ExcelWriter('xxx.xlsx')\n",
    "xx.to_excel(writer,'page_1',float_format='%.5f')  #Key 3, float_format controls the accuracy, write data_df to the first page of the hhh form. If there are multiple files, you can write in page_2\n",
    "writer.save()  #Key 4"
   ]
  },
  {
   "cell_type": "code",
   "execution_count": null,
   "metadata": {},
   "outputs": [],
   "source": [
    "fig=plt.figure(figsize=(18,18),dpi=70)\n",
    "columns = 4\n",
    "rows = 5\n",
    "for i in range(1,num_class+1):\n",
    "    ax=fig.add_subplot(rows, columns, i)\n",
    "    plt.plot(fpr[i-1], tpr[i-1], color='darkorange', lw=2,\n",
    "             label='ROC curve of class {0} (area = {1:0.5f})'\n",
    "             ''.format(i-1, roc_auc[i-1]))\n",
    "    plt.plot([0, 1], [0, 1], 'k--', lw=lw)\n",
    "    plt.xlim([0.0, 1.0])\n",
    "    plt.ylim([0.0, 1.05])\n",
    "    plt.xlabel('False Positive Rate')\n",
    "    plt.ylabel('True Positive Rate')\n",
    "    plt.legend(loc=\"lower right\")\n",
    "plt.show()"
   ]
  },
  {
   "cell_type": "code",
   "execution_count": null,
   "metadata": {},
   "outputs": [],
   "source": [
    "from sklearn.metrics import roc_curve, auc\n",
    "from sklearn.metrics import roc_auc_score\n",
    "macro_roc_auc_ovo = roc_auc_score(y_encoded, y_prob, multi_class=\"ovo\",\n",
    "                                  average=\"macro\")\n",
    "weighted_roc_auc_ovo = roc_auc_score(y_encoded, y_prob, multi_class=\"ovo\",\n",
    "                                     average=\"weighted\")\n",
    "macro_roc_auc_ovr = roc_auc_score(y_encoded, y_prob, multi_class=\"ovr\",\n",
    "                                  average=\"macro\")\n",
    "weighted_roc_auc_ovr = roc_auc_score(y_encoded, y_prob, multi_class=\"ovr\",\n",
    "                                     average=\"weighted\")\n",
    "print(\"One-vs-One ROC AUC scores:\\n{:.6f} (macro),\\n{:.6f} \"\n",
    "      \"(weighted by prevalence)\"\n",
    "      .format(macro_roc_auc_ovo, weighted_roc_auc_ovo))\n",
    "print(\"One-vs-Rest ROC AUC scores:\\n{:.6f} (macro),\\n{:.6f} \"\n",
    "      \"(weighted by prevalence)\"\n",
    "      .format(macro_roc_auc_ovr, weighted_roc_auc_ovr))"
   ]
  },
  {
   "cell_type": "code",
   "execution_count": null,
   "metadata": {},
   "outputs": [],
   "source": [
    "writer = pd.ExcelWriter('kkk.xlsx', engine='xlsxwriter')\n",
    "for i in range(num_class):\n",
    "        data_df = pd.DataFrame(data=np.vstack((fpr[i],tpr[i],thresh[i])).T,  columns = [\"fpr\",\"tpr\",\"threshold\"])\n",
    "        data_df.to_excel(writer, header = True, index = True, startrow=0, startcol=5*i, float_format='%.4f')\n",
    "writer.save()"
   ]
  },
  {
   "cell_type": "code",
   "execution_count": null,
   "metadata": {},
   "outputs": [],
   "source": [
    "writer = pd.ExcelWriter('hhh.xlsx')  #Key 2, create an excel sheet named hhh\n",
    "data_df.to_excel(writer,'page_1',float_format='%.5f')  #Key 3, float_format controls the accuracy, write data_df to the first page of the hhh form. If there are multiple files, you can write in page_2\n",
    "writer.save()  #Key 4"
   ]
  }
 ],
 "metadata": {
  "kernelspec": {
   "display_name": "Python 3",
   "language": "python",
   "name": "python3"
  },
  "language_info": {
   "codemirror_mode": {
    "name": "ipython",
    "version": 3
   },
   "file_extension": ".py",
   "mimetype": "text/x-python",
   "name": "python",
   "nbconvert_exporter": "python",
   "pygments_lexer": "ipython3",
   "version": "3.8.3"
  }
 },
 "nbformat": 4,
 "nbformat_minor": 4
}
